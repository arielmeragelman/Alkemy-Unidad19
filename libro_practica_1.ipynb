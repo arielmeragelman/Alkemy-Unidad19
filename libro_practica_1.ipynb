{
 "cells": [
  {
   "cell_type": "code",
   "execution_count": 5,
   "id": "7be5b5fd",
   "metadata": {},
   "outputs": [
    {
     "name": "stdout",
     "output_type": "stream",
     "text": [
      "Requirement already satisfied: pandas in /home/arielmeragelman/anaconda3/lib/python3.9/site-packages (1.4.2)\n",
      "Requirement already satisfied: python-dateutil>=2.8.1 in /home/arielmeragelman/anaconda3/lib/python3.9/site-packages (from pandas) (2.8.2)\n",
      "Requirement already satisfied: pytz>=2020.1 in /home/arielmeragelman/anaconda3/lib/python3.9/site-packages (from pandas) (2021.3)\n",
      "Requirement already satisfied: numpy>=1.18.5 in /home/arielmeragelman/anaconda3/lib/python3.9/site-packages (from pandas) (1.21.5)\n",
      "Requirement already satisfied: six>=1.5 in /home/arielmeragelman/anaconda3/lib/python3.9/site-packages (from python-dateutil>=2.8.1->pandas) (1.16.0)\n",
      "Note: you may need to restart the kernel to use updated packages.\n"
     ]
    }
   ],
   "source": [
    "pip install pandas"
   ]
  },
  {
   "cell_type": "code",
   "execution_count": 6,
   "id": "aa74a9b9",
   "metadata": {},
   "outputs": [
    {
     "name": "stdout",
     "output_type": "stream",
     "text": [
      "Requirement already satisfied: matplotlib in /home/arielmeragelman/anaconda3/lib/python3.9/site-packages (3.5.1)\n",
      "Requirement already satisfied: python-dateutil>=2.7 in /home/arielmeragelman/anaconda3/lib/python3.9/site-packages (from matplotlib) (2.8.2)\n",
      "Requirement already satisfied: fonttools>=4.22.0 in /home/arielmeragelman/anaconda3/lib/python3.9/site-packages (from matplotlib) (4.25.0)\n",
      "Requirement already satisfied: pyparsing>=2.2.1 in /home/arielmeragelman/anaconda3/lib/python3.9/site-packages (from matplotlib) (3.0.4)\n",
      "Requirement already satisfied: cycler>=0.10 in /home/arielmeragelman/anaconda3/lib/python3.9/site-packages (from matplotlib) (0.11.0)\n",
      "Requirement already satisfied: packaging>=20.0 in /home/arielmeragelman/anaconda3/lib/python3.9/site-packages (from matplotlib) (21.3)\n",
      "Requirement already satisfied: kiwisolver>=1.0.1 in /home/arielmeragelman/anaconda3/lib/python3.9/site-packages (from matplotlib) (1.3.2)\n",
      "Requirement already satisfied: pillow>=6.2.0 in /home/arielmeragelman/anaconda3/lib/python3.9/site-packages (from matplotlib) (9.0.1)\n",
      "Requirement already satisfied: numpy>=1.17 in /home/arielmeragelman/anaconda3/lib/python3.9/site-packages (from matplotlib) (1.21.5)\n",
      "Requirement already satisfied: six>=1.5 in /home/arielmeragelman/anaconda3/lib/python3.9/site-packages (from python-dateutil>=2.7->matplotlib) (1.16.0)\n",
      "Note: you may need to restart the kernel to use updated packages.\n"
     ]
    }
   ],
   "source": [
    "pip install matplotlib"
   ]
  },
  {
   "cell_type": "code",
   "execution_count": 37,
   "id": "8a6e3721",
   "metadata": {},
   "outputs": [
    {
     "name": "stdout",
     "output_type": "stream",
     "text": [
      "Requirement already satisfied: xlrd in /home/arielmeragelman/anaconda3/lib/python3.9/site-packages (2.0.1)\n",
      "Note: you may need to restart the kernel to use updated packages.\n"
     ]
    }
   ],
   "source": [
    "pip install xlrd"
   ]
  },
  {
   "cell_type": "code",
   "execution_count": 35,
   "id": "3ee2aa41",
   "metadata": {},
   "outputs": [],
   "source": [
    "# Importamos Librerias\n",
    "import pandas as pd\n",
    "import xlrd\n",
    "import matplotlib.pyplot as plt "
   ]
  },
  {
   "cell_type": "code",
   "execution_count": 3,
   "id": "beea9417",
   "metadata": {},
   "outputs": [
    {
     "data": {
      "text/html": [
       "<div>\n",
       "<style scoped>\n",
       "    .dataframe tbody tr th:only-of-type {\n",
       "        vertical-align: middle;\n",
       "    }\n",
       "\n",
       "    .dataframe tbody tr th {\n",
       "        vertical-align: top;\n",
       "    }\n",
       "\n",
       "    .dataframe thead th {\n",
       "        text-align: right;\n",
       "    }\n",
       "</style>\n",
       "<table border=\"1\" class=\"dataframe\">\n",
       "  <thead>\n",
       "    <tr style=\"text-align: right;\">\n",
       "      <th></th>\n",
       "      <th>ACEITE DE DENDE CEPERA X 100 ML.</th>\n",
       "      <th>ACEITE DE GIRASOL ALSAMAR PC X 1.5 LT.</th>\n",
       "      <th>ACEITE DE GIRASOL CAÑUELAS PC X 1.5 LT.</th>\n",
       "      <th>ACEITE DE GIRASOL CAÑUELAS PC X 900 ML.</th>\n",
       "      <th>ACEITE DE GIRASOL COCINERO PC X 1.5 LT.</th>\n",
       "      <th>ACEITE DE GIRASOL COCINERO PC X 900 CC.</th>\n",
       "      <th>ACEITE DE GIRASOL FAMILIAR X 1.5 LT.</th>\n",
       "      <th>ACEITE DE GIRASOL GOLDEN CHEF X 900 ML.</th>\n",
       "      <th>ACEITE DE GIRASOL LEGITIMO X 1,5 LT.</th>\n",
       "      <th>ACEITE DE GIRASOL LEGITIMO X 900 ML.</th>\n",
       "      <th>...</th>\n",
       "      <th>TAPAS PARA PASCUALINAS IL BAMBINO X 2 UND X 400 GR</th>\n",
       "      <th>TAPAS PARA PASTELITOS IL BAMBINO X 12 UN X 400 GR</th>\n",
       "      <th>TOALLAS HUMEDAS HUGGIES 4 EN 1 X 48 UN.</th>\n",
       "      <th>TOALLAS HUMEDAS HUGGIES OLEO X 48 UN.</th>\n",
       "      <th>TOALLAS HUMEDAS HUGGIES PURO Y NATURAL  X 48 UN.</th>\n",
       "      <th>YOGUR SANCOR VIDA  BEBIBLE DESCREMADO FRUTILLA BOT</th>\n",
       "      <th>bid_x</th>\n",
       "      <th>ask_x</th>\n",
       "      <th>bid_y</th>\n",
       "      <th>ask_y</th>\n",
       "    </tr>\n",
       "  </thead>\n",
       "  <tbody>\n",
       "    <tr>\n",
       "      <th>2022-04-11</th>\n",
       "      <td>612.56</td>\n",
       "      <td>339.0</td>\n",
       "      <td>345.0</td>\n",
       "      <td>239.0</td>\n",
       "      <td>307.0</td>\n",
       "      <td>195.0</td>\n",
       "      <td>785.2</td>\n",
       "      <td>269.36</td>\n",
       "      <td>390.0</td>\n",
       "      <td>234.0</td>\n",
       "      <td>...</td>\n",
       "      <td>126.36</td>\n",
       "      <td>128.22</td>\n",
       "      <td>525.0</td>\n",
       "      <td>599.0</td>\n",
       "      <td>685.0</td>\n",
       "      <td>92.56</td>\n",
       "      <td>191.4</td>\n",
       "      <td>195.0</td>\n",
       "      <td>111.75</td>\n",
       "      <td>117.75</td>\n",
       "    </tr>\n",
       "    <tr>\n",
       "      <th>2022-04-12</th>\n",
       "      <td>612.56</td>\n",
       "      <td>339.0</td>\n",
       "      <td>345.0</td>\n",
       "      <td>239.0</td>\n",
       "      <td>307.0</td>\n",
       "      <td>195.0</td>\n",
       "      <td>785.2</td>\n",
       "      <td>269.36</td>\n",
       "      <td>390.0</td>\n",
       "      <td>234.0</td>\n",
       "      <td>...</td>\n",
       "      <td>126.36</td>\n",
       "      <td>128.22</td>\n",
       "      <td>525.0</td>\n",
       "      <td>599.0</td>\n",
       "      <td>685.0</td>\n",
       "      <td>92.56</td>\n",
       "      <td>191.4</td>\n",
       "      <td>195.0</td>\n",
       "      <td>111.75</td>\n",
       "      <td>117.75</td>\n",
       "    </tr>\n",
       "    <tr>\n",
       "      <th>2022-04-13</th>\n",
       "      <td>612.56</td>\n",
       "      <td>339.0</td>\n",
       "      <td>345.0</td>\n",
       "      <td>239.0</td>\n",
       "      <td>307.0</td>\n",
       "      <td>195.0</td>\n",
       "      <td>785.2</td>\n",
       "      <td>269.36</td>\n",
       "      <td>390.0</td>\n",
       "      <td>234.0</td>\n",
       "      <td>...</td>\n",
       "      <td>126.36</td>\n",
       "      <td>128.22</td>\n",
       "      <td>525.0</td>\n",
       "      <td>599.0</td>\n",
       "      <td>685.0</td>\n",
       "      <td>92.56</td>\n",
       "      <td>191.4</td>\n",
       "      <td>195.0</td>\n",
       "      <td>112.00</td>\n",
       "      <td>118.00</td>\n",
       "    </tr>\n",
       "    <tr>\n",
       "      <th>2022-04-18</th>\n",
       "      <td>612.56</td>\n",
       "      <td>339.0</td>\n",
       "      <td>345.0</td>\n",
       "      <td>239.0</td>\n",
       "      <td>307.0</td>\n",
       "      <td>195.0</td>\n",
       "      <td>785.2</td>\n",
       "      <td>269.36</td>\n",
       "      <td>390.0</td>\n",
       "      <td>234.0</td>\n",
       "      <td>...</td>\n",
       "      <td>126.36</td>\n",
       "      <td>128.22</td>\n",
       "      <td>525.0</td>\n",
       "      <td>599.0</td>\n",
       "      <td>685.0</td>\n",
       "      <td>92.56</td>\n",
       "      <td>191.4</td>\n",
       "      <td>195.0</td>\n",
       "      <td>112.50</td>\n",
       "      <td>118.50</td>\n",
       "    </tr>\n",
       "    <tr>\n",
       "      <th>2022-04-19</th>\n",
       "      <td>612.56</td>\n",
       "      <td>339.0</td>\n",
       "      <td>345.0</td>\n",
       "      <td>239.0</td>\n",
       "      <td>307.0</td>\n",
       "      <td>195.0</td>\n",
       "      <td>785.2</td>\n",
       "      <td>269.36</td>\n",
       "      <td>390.0</td>\n",
       "      <td>234.0</td>\n",
       "      <td>...</td>\n",
       "      <td>126.36</td>\n",
       "      <td>128.22</td>\n",
       "      <td>525.0</td>\n",
       "      <td>599.0</td>\n",
       "      <td>685.0</td>\n",
       "      <td>92.56</td>\n",
       "      <td>194.4</td>\n",
       "      <td>198.0</td>\n",
       "      <td>112.75</td>\n",
       "      <td>118.75</td>\n",
       "    </tr>\n",
       "  </tbody>\n",
       "</table>\n",
       "<p>5 rows × 559 columns</p>\n",
       "</div>"
      ],
      "text/plain": [
       "            ACEITE DE DENDE CEPERA X 100 ML.  \\\n",
       "2022-04-11                            612.56   \n",
       "2022-04-12                            612.56   \n",
       "2022-04-13                            612.56   \n",
       "2022-04-18                            612.56   \n",
       "2022-04-19                            612.56   \n",
       "\n",
       "            ACEITE DE GIRASOL ALSAMAR PC X 1.5 LT.  \\\n",
       "2022-04-11                                   339.0   \n",
       "2022-04-12                                   339.0   \n",
       "2022-04-13                                   339.0   \n",
       "2022-04-18                                   339.0   \n",
       "2022-04-19                                   339.0   \n",
       "\n",
       "            ACEITE DE GIRASOL CAÑUELAS PC X 1.5 LT.  \\\n",
       "2022-04-11                                    345.0   \n",
       "2022-04-12                                    345.0   \n",
       "2022-04-13                                    345.0   \n",
       "2022-04-18                                    345.0   \n",
       "2022-04-19                                    345.0   \n",
       "\n",
       "            ACEITE DE GIRASOL CAÑUELAS PC X 900 ML.  \\\n",
       "2022-04-11                                    239.0   \n",
       "2022-04-12                                    239.0   \n",
       "2022-04-13                                    239.0   \n",
       "2022-04-18                                    239.0   \n",
       "2022-04-19                                    239.0   \n",
       "\n",
       "            ACEITE DE GIRASOL COCINERO PC X 1.5 LT.  \\\n",
       "2022-04-11                                    307.0   \n",
       "2022-04-12                                    307.0   \n",
       "2022-04-13                                    307.0   \n",
       "2022-04-18                                    307.0   \n",
       "2022-04-19                                    307.0   \n",
       "\n",
       "            ACEITE DE GIRASOL COCINERO PC X 900 CC.  \\\n",
       "2022-04-11                                    195.0   \n",
       "2022-04-12                                    195.0   \n",
       "2022-04-13                                    195.0   \n",
       "2022-04-18                                    195.0   \n",
       "2022-04-19                                    195.0   \n",
       "\n",
       "            ACEITE DE GIRASOL FAMILIAR X 1.5 LT.  \\\n",
       "2022-04-11                                 785.2   \n",
       "2022-04-12                                 785.2   \n",
       "2022-04-13                                 785.2   \n",
       "2022-04-18                                 785.2   \n",
       "2022-04-19                                 785.2   \n",
       "\n",
       "            ACEITE DE GIRASOL GOLDEN CHEF X 900 ML.  \\\n",
       "2022-04-11                                   269.36   \n",
       "2022-04-12                                   269.36   \n",
       "2022-04-13                                   269.36   \n",
       "2022-04-18                                   269.36   \n",
       "2022-04-19                                   269.36   \n",
       "\n",
       "            ACEITE DE GIRASOL LEGITIMO X 1,5 LT.  \\\n",
       "2022-04-11                                 390.0   \n",
       "2022-04-12                                 390.0   \n",
       "2022-04-13                                 390.0   \n",
       "2022-04-18                                 390.0   \n",
       "2022-04-19                                 390.0   \n",
       "\n",
       "            ACEITE DE GIRASOL LEGITIMO X 900 ML.  ...  \\\n",
       "2022-04-11                                 234.0  ...   \n",
       "2022-04-12                                 234.0  ...   \n",
       "2022-04-13                                 234.0  ...   \n",
       "2022-04-18                                 234.0  ...   \n",
       "2022-04-19                                 234.0  ...   \n",
       "\n",
       "            TAPAS PARA PASCUALINAS IL BAMBINO X 2 UND X 400 GR  \\\n",
       "2022-04-11                                             126.36    \n",
       "2022-04-12                                             126.36    \n",
       "2022-04-13                                             126.36    \n",
       "2022-04-18                                             126.36    \n",
       "2022-04-19                                             126.36    \n",
       "\n",
       "            TAPAS PARA PASTELITOS IL BAMBINO X 12 UN X 400 GR  \\\n",
       "2022-04-11                                             128.22   \n",
       "2022-04-12                                             128.22   \n",
       "2022-04-13                                             128.22   \n",
       "2022-04-18                                             128.22   \n",
       "2022-04-19                                             128.22   \n",
       "\n",
       "            TOALLAS HUMEDAS HUGGIES 4 EN 1 X 48 UN.  \\\n",
       "2022-04-11                                    525.0   \n",
       "2022-04-12                                    525.0   \n",
       "2022-04-13                                    525.0   \n",
       "2022-04-18                                    525.0   \n",
       "2022-04-19                                    525.0   \n",
       "\n",
       "            TOALLAS HUMEDAS HUGGIES OLEO X 48 UN.  \\\n",
       "2022-04-11                                  599.0   \n",
       "2022-04-12                                  599.0   \n",
       "2022-04-13                                  599.0   \n",
       "2022-04-18                                  599.0   \n",
       "2022-04-19                                  599.0   \n",
       "\n",
       "            TOALLAS HUMEDAS HUGGIES PURO Y NATURAL  X 48 UN.  \\\n",
       "2022-04-11                                             685.0   \n",
       "2022-04-12                                             685.0   \n",
       "2022-04-13                                             685.0   \n",
       "2022-04-18                                             685.0   \n",
       "2022-04-19                                             685.0   \n",
       "\n",
       "            YOGUR SANCOR VIDA  BEBIBLE DESCREMADO FRUTILLA BOT  bid_x  ask_x  \\\n",
       "2022-04-11                                              92.56   191.4  195.0   \n",
       "2022-04-12                                              92.56   191.4  195.0   \n",
       "2022-04-13                                              92.56   191.4  195.0   \n",
       "2022-04-18                                              92.56   191.4  195.0   \n",
       "2022-04-19                                              92.56   194.4  198.0   \n",
       "\n",
       "             bid_y   ask_y  \n",
       "2022-04-11  111.75  117.75  \n",
       "2022-04-12  111.75  117.75  \n",
       "2022-04-13  112.00  118.00  \n",
       "2022-04-18  112.50  118.50  \n",
       "2022-04-19  112.75  118.75  \n",
       "\n",
       "[5 rows x 559 columns]"
      ]
     },
     "execution_count": 3,
     "metadata": {},
     "output_type": "execute_result"
    }
   ],
   "source": [
    "# Creamos el dataframe a partir del csv e indicamos que la primer columna es el indice\n",
    "df_precios = pd.read_csv(\"Matriz_precios_back.csv\",index_col=[0])\n",
    "df_precios.head()\n",
    "\n",
    "\n"
   ]
  },
  {
   "cell_type": "code",
   "execution_count": 4,
   "id": "db05ca53",
   "metadata": {},
   "outputs": [],
   "source": [
    "# Creamos un segundo dataframe a partir del archivo xlsx que tenemos\n",
    "\n",
    "df_dolar_blue = pd.read_excel(\"blue_2022.xlsx\",index_col=[0])"
   ]
  },
  {
   "cell_type": "code",
   "execution_count": 5,
   "id": "4519a7a1",
   "metadata": {},
   "outputs": [
    {
     "data": {
      "text/html": [
       "<div>\n",
       "<style scoped>\n",
       "    .dataframe tbody tr th:only-of-type {\n",
       "        vertical-align: middle;\n",
       "    }\n",
       "\n",
       "    .dataframe tbody tr th {\n",
       "        vertical-align: top;\n",
       "    }\n",
       "\n",
       "    .dataframe thead th {\n",
       "        text-align: right;\n",
       "    }\n",
       "</style>\n",
       "<table border=\"1\" class=\"dataframe\">\n",
       "  <thead>\n",
       "    <tr style=\"text-align: right;\">\n",
       "      <th></th>\n",
       "      <th>bid</th>\n",
       "      <th>ask</th>\n",
       "    </tr>\n",
       "    <tr>\n",
       "      <th>fecha</th>\n",
       "      <th></th>\n",
       "      <th></th>\n",
       "    </tr>\n",
       "  </thead>\n",
       "  <tbody>\n",
       "    <tr>\n",
       "      <th>2022-01-03</th>\n",
       "      <td>$ 102.00</td>\n",
       "      <td>$ 108.00</td>\n",
       "    </tr>\n",
       "    <tr>\n",
       "      <th>2022-01-04</th>\n",
       "      <td>$ 102.00</td>\n",
       "      <td>$ 108.00</td>\n",
       "    </tr>\n",
       "    <tr>\n",
       "      <th>2022-01-05</th>\n",
       "      <td>$ 102.00</td>\n",
       "      <td>$ 108.00</td>\n",
       "    </tr>\n",
       "    <tr>\n",
       "      <th>2022-01-06</th>\n",
       "      <td>$ 102.25</td>\n",
       "      <td>$ 108.25</td>\n",
       "    </tr>\n",
       "    <tr>\n",
       "      <th>2022-01-07</th>\n",
       "      <td>$ 102.50</td>\n",
       "      <td>$ 108.50</td>\n",
       "    </tr>\n",
       "  </tbody>\n",
       "</table>\n",
       "</div>"
      ],
      "text/plain": [
       "                   bid        ask\n",
       "fecha                            \n",
       "2022-01-03   $ 102.00    $ 108.00\n",
       "2022-01-04   $ 102.00    $ 108.00\n",
       "2022-01-05   $ 102.00    $ 108.00\n",
       "2022-01-06   $ 102.25    $ 108.25\n",
       "2022-01-07   $ 102.50    $ 108.50"
      ]
     },
     "execution_count": 5,
     "metadata": {},
     "output_type": "execute_result"
    }
   ],
   "source": [
    "df_dolar_blue.head()"
   ]
  },
  {
   "cell_type": "code",
   "execution_count": 6,
   "id": "21804db4",
   "metadata": {},
   "outputs": [
    {
     "data": {
      "text/plain": [
       "count    107.000000\n",
       "mean     248.070093\n",
       "std       41.301746\n",
       "min      191.400000\n",
       "25%      202.400000\n",
       "50%      265.000000\n",
       "75%      285.000000\n",
       "max      330.000000\n",
       "Name: bid_x, dtype: float64"
      ]
     },
     "execution_count": 6,
     "metadata": {},
     "output_type": "execute_result"
    }
   ],
   "source": [
    "# Vamos a tomar una columna como referencia para buscar con respecto a que parametro podemos agrupar \n",
    "df_precios['bid_x'].describe()"
   ]
  },
  {
   "cell_type": "code",
   "execution_count": 11,
   "id": "6fda761d",
   "metadata": {},
   "outputs": [],
   "source": [
    "# Creamos una nueva columna condicionada a la variacion de bid_x donde pase de una variable continua a una discreta\n",
    "df_rango_precio=pd.cut(df_precios['bid_x'], bins=[190,202.4,265,285,320], labels=[ \"Precio 1\", \"Precio 2\", \"Precio 3\", \"Precio 4\"]) \n",
    "\n"
   ]
  },
  {
   "cell_type": "code",
   "execution_count": 14,
   "id": "a080d2b3",
   "metadata": {},
   "outputs": [],
   "source": [
    "# Creamos un nuevo dataframe a partir de la union de una de las columnas a agrupar y la nueva columna que discretizamos\n",
    "df_matriz_agrupada = pd.concat([df_rango_precio, df_precios['ACEITE DE GIRASOL COCINERO PC X 900 CC.']], axis=1)"
   ]
  },
  {
   "cell_type": "code",
   "execution_count": 16,
   "id": "dfa6b003",
   "metadata": {},
   "outputs": [
    {
     "data": {
      "text/html": [
       "<div>\n",
       "<style scoped>\n",
       "    .dataframe tbody tr th:only-of-type {\n",
       "        vertical-align: middle;\n",
       "    }\n",
       "\n",
       "    .dataframe tbody tr th {\n",
       "        vertical-align: top;\n",
       "    }\n",
       "\n",
       "    .dataframe thead th {\n",
       "        text-align: right;\n",
       "    }\n",
       "</style>\n",
       "<table border=\"1\" class=\"dataframe\">\n",
       "  <thead>\n",
       "    <tr style=\"text-align: right;\">\n",
       "      <th></th>\n",
       "      <th>bid_x</th>\n",
       "      <th>ACEITE DE GIRASOL COCINERO PC X 900 CC.</th>\n",
       "    </tr>\n",
       "  </thead>\n",
       "  <tbody>\n",
       "    <tr>\n",
       "      <th>2022-04-11</th>\n",
       "      <td>Precio 1</td>\n",
       "      <td>195.0</td>\n",
       "    </tr>\n",
       "    <tr>\n",
       "      <th>2022-04-12</th>\n",
       "      <td>Precio 1</td>\n",
       "      <td>195.0</td>\n",
       "    </tr>\n",
       "    <tr>\n",
       "      <th>2022-04-13</th>\n",
       "      <td>Precio 1</td>\n",
       "      <td>195.0</td>\n",
       "    </tr>\n",
       "    <tr>\n",
       "      <th>2022-04-18</th>\n",
       "      <td>Precio 1</td>\n",
       "      <td>195.0</td>\n",
       "    </tr>\n",
       "    <tr>\n",
       "      <th>2022-04-19</th>\n",
       "      <td>Precio 1</td>\n",
       "      <td>195.0</td>\n",
       "    </tr>\n",
       "  </tbody>\n",
       "</table>\n",
       "</div>"
      ],
      "text/plain": [
       "               bid_x  ACEITE DE GIRASOL COCINERO PC X 900 CC.\n",
       "2022-04-11  Precio 1                                    195.0\n",
       "2022-04-12  Precio 1                                    195.0\n",
       "2022-04-13  Precio 1                                    195.0\n",
       "2022-04-18  Precio 1                                    195.0\n",
       "2022-04-19  Precio 1                                    195.0"
      ]
     },
     "execution_count": 16,
     "metadata": {},
     "output_type": "execute_result"
    }
   ],
   "source": [
    "# Validamos que se creo correctamente el dataframe\n",
    "df_matriz_agrupada.head()"
   ]
  },
  {
   "cell_type": "code",
   "execution_count": 17,
   "id": "00c5a066",
   "metadata": {},
   "outputs": [
    {
     "data": {
      "text/html": [
       "<div>\n",
       "<style scoped>\n",
       "    .dataframe tbody tr th:only-of-type {\n",
       "        vertical-align: middle;\n",
       "    }\n",
       "\n",
       "    .dataframe tbody tr th {\n",
       "        vertical-align: top;\n",
       "    }\n",
       "\n",
       "    .dataframe thead th {\n",
       "        text-align: right;\n",
       "    }\n",
       "</style>\n",
       "<table border=\"1\" class=\"dataframe\">\n",
       "  <thead>\n",
       "    <tr style=\"text-align: right;\">\n",
       "      <th></th>\n",
       "      <th>ACEITE DE GIRASOL COCINERO PC X 900 CC.</th>\n",
       "    </tr>\n",
       "  </thead>\n",
       "  <tbody>\n",
       "    <tr>\n",
       "      <th>count</th>\n",
       "      <td>107.000000</td>\n",
       "    </tr>\n",
       "    <tr>\n",
       "      <th>mean</th>\n",
       "      <td>219.224299</td>\n",
       "    </tr>\n",
       "    <tr>\n",
       "      <th>std</th>\n",
       "      <td>14.901759</td>\n",
       "    </tr>\n",
       "    <tr>\n",
       "      <th>min</th>\n",
       "      <td>195.000000</td>\n",
       "    </tr>\n",
       "    <tr>\n",
       "      <th>25%</th>\n",
       "      <td>209.000000</td>\n",
       "    </tr>\n",
       "    <tr>\n",
       "      <th>50%</th>\n",
       "      <td>215.000000</td>\n",
       "    </tr>\n",
       "    <tr>\n",
       "      <th>75%</th>\n",
       "      <td>235.000000</td>\n",
       "    </tr>\n",
       "    <tr>\n",
       "      <th>max</th>\n",
       "      <td>235.000000</td>\n",
       "    </tr>\n",
       "  </tbody>\n",
       "</table>\n",
       "</div>"
      ],
      "text/plain": [
       "       ACEITE DE GIRASOL COCINERO PC X 900 CC.\n",
       "count                               107.000000\n",
       "mean                                219.224299\n",
       "std                                  14.901759\n",
       "min                                 195.000000\n",
       "25%                                 209.000000\n",
       "50%                                 215.000000\n",
       "75%                                 235.000000\n",
       "max                                 235.000000"
      ]
     },
     "execution_count": 17,
     "metadata": {},
     "output_type": "execute_result"
    }
   ],
   "source": [
    "# Evaluamos como esta conformados los datos\n",
    "df_matriz_agrupada.describe()"
   ]
  },
  {
   "cell_type": "code",
   "execution_count": 18,
   "id": "ece285a9",
   "metadata": {},
   "outputs": [
    {
     "data": {
      "text/plain": [
       "bid_x\n",
       "Precio 1    5648.0\n",
       "Precio 2    5729.0\n",
       "Precio 3    6500.0\n",
       "Precio 4    5130.0\n",
       "Name: ACEITE DE GIRASOL COCINERO PC X 900 CC., dtype: float64"
      ]
     },
     "execution_count": 18,
     "metadata": {},
     "output_type": "execute_result"
    }
   ],
   "source": [
    "# Agrupamos los valores segun la categoria discreta que creamos\n",
    "df_matriz_agrupada.groupby(['bid_x'])['ACEITE DE GIRASOL COCINERO PC X 900 CC.'].sum()"
   ]
  },
  {
   "cell_type": "code",
   "execution_count": 81,
   "id": "510487ca",
   "metadata": {},
   "outputs": [
    {
     "data": {
      "text/plain": [
       "bid_x\n",
       "Precio 1    201.714286\n",
       "Precio 2    212.185185\n",
       "Precio 3    232.142857\n",
       "Precio 4    233.181818\n",
       "Name: ACEITE DE GIRASOL COCINERO PC X 900 CC., dtype: float64"
      ]
     },
     "execution_count": 81,
     "metadata": {},
     "output_type": "execute_result"
    }
   ],
   "source": [
    "#Para este analisis particular seria mas util igualmente obtener valores como el count y el mean\n",
    "df_media = df_matriz_agrupada.groupby(['bid_x'])['ACEITE DE GIRASOL COCINERO PC X 900 CC.'].mean()\n",
    "df_media"
   ]
  },
  {
   "cell_type": "code",
   "execution_count": 82,
   "id": "0c538b26",
   "metadata": {},
   "outputs": [
    {
     "data": {
      "text/plain": [
       "bid_x\n",
       "Precio 1    28\n",
       "Precio 2    27\n",
       "Precio 3    28\n",
       "Precio 4    22\n",
       "Name: ACEITE DE GIRASOL COCINERO PC X 900 CC., dtype: int64"
      ]
     },
     "execution_count": 82,
     "metadata": {},
     "output_type": "execute_result"
    }
   ],
   "source": [
    "#Para este analisis particular seria mas util igualmente obtener valores como el count y el mean\n",
    "df_cantidad = df_matriz_agrupada.groupby(['bid_x'])['ACEITE DE GIRASOL COCINERO PC X 900 CC.'].count()\n",
    "df_cantidad"
   ]
  },
  {
   "cell_type": "markdown",
   "id": "1a6e6b49",
   "metadata": {},
   "source": [
    "# Analisis de la información obtenida\n",
    "\n",
    "Para este dataset particular donde bid_x es el precio del dolar blue en un rango de tiempo y los valores de 'ACEITE DE GIRASOL COCINERO PC X 900 CC.' se corresponden al precio del producto en un supermercado dado durante ese mismo periodo, podriamos considerar que la distribución de precios del producto tiende a seguir la distribución de precios del dolar, pero durante este analisis no se considero que la cantidad de muestras en un periodo fue superior a la de otros periodos, lo cual lleva a que los cortes que se tomaron para volver discreta la variable bid_x esten sesgados y es por eso que encontramos que tenemos mas muestras de Precio 1 que de Precio 2 aunque Precio 1 estaba fuera del percentil mas bajo y por ende deberia tener menor cantidad de precios que cayeran dentro de ese valor. Existiria la posibilidad que se diera esta misma situación si la distribución de muestras fuera uniforme, pero al no ser asi no podemos concluir que el precio del producto este siguiendo el valor del dolar.\n",
    "No obstante se podria en un futuro realizar un analisis limitando la cantidad de muestras o recreandolas con algun modelo."
   ]
  },
  {
   "cell_type": "code",
   "execution_count": 25,
   "id": "1b16106b",
   "metadata": {},
   "outputs": [],
   "source": [
    "# Convertimos el indice en columna de analisis y cambiamos su nombre de indice a Fecha\n",
    "df_matriz_agrupada.reset_index(inplace=True)\n",
    "df_matriz_agrupada.rename(columns={'index':'Fecha'}, inplace=True)\n",
    "\n"
   ]
  },
  {
   "cell_type": "code",
   "execution_count": 37,
   "id": "7133ec4e",
   "metadata": {},
   "outputs": [],
   "source": [
    "# Realizamos el Melt del dataframe \n",
    "df_matriz_agrupada_melt=pd.melt(df_matriz_agrupada,id_vars=[\"Fecha\",\"bid_x\"],value_vars=\"ACEITE DE GIRASOL COCINERO PC X 900 CC.\")\n"
   ]
  },
  {
   "cell_type": "code",
   "execution_count": 40,
   "id": "aa0cdfaa",
   "metadata": {},
   "outputs": [
    {
     "data": {
      "text/html": [
       "<div>\n",
       "<style scoped>\n",
       "    .dataframe tbody tr th:only-of-type {\n",
       "        vertical-align: middle;\n",
       "    }\n",
       "\n",
       "    .dataframe tbody tr th {\n",
       "        vertical-align: top;\n",
       "    }\n",
       "\n",
       "    .dataframe thead th {\n",
       "        text-align: right;\n",
       "    }\n",
       "</style>\n",
       "<table border=\"1\" class=\"dataframe\">\n",
       "  <thead>\n",
       "    <tr style=\"text-align: right;\">\n",
       "      <th></th>\n",
       "      <th>Fecha</th>\n",
       "      <th>bid_x</th>\n",
       "      <th>variable</th>\n",
       "      <th>value</th>\n",
       "    </tr>\n",
       "  </thead>\n",
       "  <tbody>\n",
       "    <tr>\n",
       "      <th>0</th>\n",
       "      <td>2022-04-11</td>\n",
       "      <td>Precio 1</td>\n",
       "      <td>ACEITE DE GIRASOL COCINERO PC X 900 CC.</td>\n",
       "      <td>195.0</td>\n",
       "    </tr>\n",
       "    <tr>\n",
       "      <th>1</th>\n",
       "      <td>2022-04-12</td>\n",
       "      <td>Precio 1</td>\n",
       "      <td>ACEITE DE GIRASOL COCINERO PC X 900 CC.</td>\n",
       "      <td>195.0</td>\n",
       "    </tr>\n",
       "    <tr>\n",
       "      <th>2</th>\n",
       "      <td>2022-04-13</td>\n",
       "      <td>Precio 1</td>\n",
       "      <td>ACEITE DE GIRASOL COCINERO PC X 900 CC.</td>\n",
       "      <td>195.0</td>\n",
       "    </tr>\n",
       "    <tr>\n",
       "      <th>3</th>\n",
       "      <td>2022-04-18</td>\n",
       "      <td>Precio 1</td>\n",
       "      <td>ACEITE DE GIRASOL COCINERO PC X 900 CC.</td>\n",
       "      <td>195.0</td>\n",
       "    </tr>\n",
       "    <tr>\n",
       "      <th>4</th>\n",
       "      <td>2022-04-19</td>\n",
       "      <td>Precio 1</td>\n",
       "      <td>ACEITE DE GIRASOL COCINERO PC X 900 CC.</td>\n",
       "      <td>195.0</td>\n",
       "    </tr>\n",
       "    <tr>\n",
       "      <th>...</th>\n",
       "      <td>...</td>\n",
       "      <td>...</td>\n",
       "      <td>...</td>\n",
       "      <td>...</td>\n",
       "    </tr>\n",
       "    <tr>\n",
       "      <th>102</th>\n",
       "      <td>2022-09-14</td>\n",
       "      <td>Precio 3</td>\n",
       "      <td>ACEITE DE GIRASOL COCINERO PC X 900 CC.</td>\n",
       "      <td>235.0</td>\n",
       "    </tr>\n",
       "    <tr>\n",
       "      <th>103</th>\n",
       "      <td>2022-09-15</td>\n",
       "      <td>Precio 3</td>\n",
       "      <td>ACEITE DE GIRASOL COCINERO PC X 900 CC.</td>\n",
       "      <td>235.0</td>\n",
       "    </tr>\n",
       "    <tr>\n",
       "      <th>104</th>\n",
       "      <td>2022-09-15</td>\n",
       "      <td>Precio 3</td>\n",
       "      <td>ACEITE DE GIRASOL COCINERO PC X 900 CC.</td>\n",
       "      <td>235.0</td>\n",
       "    </tr>\n",
       "    <tr>\n",
       "      <th>105</th>\n",
       "      <td>2022-09-16</td>\n",
       "      <td>Precio 3</td>\n",
       "      <td>ACEITE DE GIRASOL COCINERO PC X 900 CC.</td>\n",
       "      <td>235.0</td>\n",
       "    </tr>\n",
       "    <tr>\n",
       "      <th>106</th>\n",
       "      <td>2022-09-16</td>\n",
       "      <td>Precio 3</td>\n",
       "      <td>ACEITE DE GIRASOL COCINERO PC X 900 CC.</td>\n",
       "      <td>235.0</td>\n",
       "    </tr>\n",
       "  </tbody>\n",
       "</table>\n",
       "<p>107 rows × 4 columns</p>\n",
       "</div>"
      ],
      "text/plain": [
       "          Fecha     bid_x                                 variable  value\n",
       "0    2022-04-11  Precio 1  ACEITE DE GIRASOL COCINERO PC X 900 CC.  195.0\n",
       "1    2022-04-12  Precio 1  ACEITE DE GIRASOL COCINERO PC X 900 CC.  195.0\n",
       "2    2022-04-13  Precio 1  ACEITE DE GIRASOL COCINERO PC X 900 CC.  195.0\n",
       "3    2022-04-18  Precio 1  ACEITE DE GIRASOL COCINERO PC X 900 CC.  195.0\n",
       "4    2022-04-19  Precio 1  ACEITE DE GIRASOL COCINERO PC X 900 CC.  195.0\n",
       "..          ...       ...                                      ...    ...\n",
       "102  2022-09-14  Precio 3  ACEITE DE GIRASOL COCINERO PC X 900 CC.  235.0\n",
       "103  2022-09-15  Precio 3  ACEITE DE GIRASOL COCINERO PC X 900 CC.  235.0\n",
       "104  2022-09-15  Precio 3  ACEITE DE GIRASOL COCINERO PC X 900 CC.  235.0\n",
       "105  2022-09-16  Precio 3  ACEITE DE GIRASOL COCINERO PC X 900 CC.  235.0\n",
       "106  2022-09-16  Precio 3  ACEITE DE GIRASOL COCINERO PC X 900 CC.  235.0\n",
       "\n",
       "[107 rows x 4 columns]"
      ]
     },
     "execution_count": 40,
     "metadata": {},
     "output_type": "execute_result"
    }
   ],
   "source": [
    "df_matriz_agrupada_melt"
   ]
  },
  {
   "cell_type": "code",
   "execution_count": 78,
   "id": "ba6da3e6",
   "metadata": {},
   "outputs": [
    {
     "data": {
      "text/plain": [
       "<BarContainer object of 107 artists>"
      ]
     },
     "execution_count": 78,
     "metadata": {},
     "output_type": "execute_result"
    },
    {
     "data": {
      "image/png": "[encoded data removed]",
      "text/plain": [
       "<Figure size 1440x720 with 1 Axes>"
      ]
     },
     "metadata": {
      "needs_background": "light"
     },
     "output_type": "display_data"
    }
   ],
   "source": [
    "from matplotlib.pyplot import figure\n",
    "\n",
    "# Realizamos la grafica de barra de el valor por fecha\n",
    "plt.figure(figsize=(20,10)) \n",
    "plt.bar(df_matriz_agrupada_melt['Fecha'], df_matriz_agrupada_melt['value'], color=\"blue\")\n",
    "\n",
    "\n",
    "# No es como de ver por lo cual solo sirve para tener una idea de la tendencia"
   ]
  },
  {
   "cell_type": "code",
   "execution_count": 79,
   "id": "1976bf25",
   "metadata": {},
   "outputs": [
    {
     "data": {
      "text/plain": [
       "<AxesSubplot:xlabel='bid_x'>"
      ]
     },
     "execution_count": 79,
     "metadata": {},
     "output_type": "execute_result"
    },
    {
     "data": {
      "image/png": "[encoded data removed]",
      "text/plain": [
       "<Figure size 432x288 with 1 Axes>"
      ]
     },
     "metadata": {
      "needs_background": "light"
     },
     "output_type": "display_data"
    }
   ],
   "source": [
    "df_matriz_agrupada_melt.plot(x='bid_x',y='value',kind='bar')"
   ]
  },
  {
   "cell_type": "code",
   "execution_count": 50,
   "id": "b88d542d",
   "metadata": {},
   "outputs": [
    {
     "data": {
      "text/plain": [
       "(array([17.,  0., 18.,  0., 27.,  0.,  0., 45.]),\n",
       " array([195., 200., 205., 210., 215., 220., 225., 230., 235.]),\n",
       " <BarContainer object of 8 artists>)"
      ]
     },
     "execution_count": 50,
     "metadata": {},
     "output_type": "execute_result"
    },
    {
     "data": {
      "image/png": "[encoded data removed]",
      "text/plain": [
       "<Figure size 432x288 with 1 Axes>"
      ]
     },
     "metadata": {
      "needs_background": "light"
     },
     "output_type": "display_data"
    }
   ],
   "source": [
    "# Graficamos la cantidad de registros sobre cada rango de valor de producto\n",
    "plt.hist(df_matriz_agrupada_melt['value'], bins=8)"
   ]
  },
  {
   "cell_type": "code",
   "execution_count": 87,
   "id": "9aacef1e",
   "metadata": {},
   "outputs": [
    {
     "data": {
      "text/plain": [
       "bid_x\n",
       "Precio 1    28\n",
       "Precio 2    27\n",
       "Precio 3    28\n",
       "Precio 4    22\n",
       "Name: ACEITE DE GIRASOL COCINERO PC X 900 CC., dtype: int64"
      ]
     },
     "execution_count": 87,
     "metadata": {},
     "output_type": "execute_result"
    },
    {
     "data": {
      "image/png": "[encoded data removed]",
      "text/plain": [
       "<Figure size 432x288 with 1 Axes>"
      ]
     },
     "metadata": {
      "needs_background": "light"
     },
     "output_type": "display_data"
    }
   ],
   "source": [
    "# Graficamos y describimos la distribución de registros segun la categoria que le asignamos\n",
    "df_cantidad.plot(x='bid_x',y='value',kind='bar')\n",
    "plt.xlabel(\"Categoria de Precio/Dolar\")\n",
    "plt.ylabel(\"Cantidad de registros para dicha categoria\")\n",
    "df_cantidad\n",
    "\n"
   ]
  },
  {
   "cell_type": "code",
   "execution_count": 86,
   "id": "1153b3f0",
   "metadata": {},
   "outputs": [
    {
     "data": {
      "text/plain": [
       "bid_x\n",
       "Precio 1    201.714286\n",
       "Precio 2    212.185185\n",
       "Precio 3    232.142857\n",
       "Precio 4    233.181818\n",
       "Name: ACEITE DE GIRASOL COCINERO PC X 900 CC., dtype: float64"
      ]
     },
     "execution_count": 86,
     "metadata": {},
     "output_type": "execute_result"
    },
    {
     "data": {
      "image/png": "[encoded data removed]",
      "text/plain": [
       "<Figure size 432x288 with 1 Axes>"
      ]
     },
     "metadata": {
      "needs_background": "light"
     },
     "output_type": "display_data"
    }
   ],
   "source": [
    "# Graficamos y describimos la distribución de registros segun la categoria que le asignamos\n",
    "df_media.plot(x='bid_x',y='value',kind='bar')\n",
    "plt.xlabel(\"Categoria de Precio/Dolar\")\n",
    "plt.ylabel(\"Media del valor Producto\")\n",
    "df_media\n",
    "\n"
   ]
  },
  {
   "cell_type": "code",
   "execution_count": null,
   "id": "6129cdb6",
   "metadata": {},
   "outputs": [],
   "source": []
  }
 ],
 "metadata": {
  "kernelspec": {
   "display_name": "Python 3 (ipykernel)",
   "language": "python",
   "name": "python3"
  },
  "language_info": {
   "codemirror_mode": {
    "name": "ipython",
    "version": 3
   },
   "file_extension": ".py",
   "mimetype": "text/x-python",
   "name": "python",
   "nbconvert_exporter": "python",
   "pygments_lexer": "ipython3",
   "version": "3.9.12"
  }
 },
 "nbformat": 4,
 "nbformat_minor": 5
}
